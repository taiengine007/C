{
 "cells": [
  {
   "cell_type": "code",
   "execution_count": 6,
   "id": "a4304708-bd67-4f9e-b029-886c92f7e345",
   "metadata": {},
   "outputs": [
    {
     "name": "stdout",
     "output_type": "stream",
     "text": [
      "AAA\n"
     ]
    }
   ],
   "source": [
    "class item:\n",
    "    random_str = \"aaa\"\n",
    "    print(random_str.upper())    "
   ]
  },
  {
   "cell_type": "markdown",
   "id": "992970da-1869-4213-b495-0c8105a030f5",
   "metadata": {},
   "source": [
    "type(item)"
   ]
  },
  {
   "cell_type": "code",
   "execution_count": 4,
   "id": "f172d754-2ae4-44f7-8031-4002587dd326",
   "metadata": {},
   "outputs": [
    {
     "data": {
      "text/plain": [
       "__main__.item"
      ]
     },
     "execution_count": 4,
     "metadata": {},
     "output_type": "execute_result"
    }
   ],
   "source": [
    "type(item1)"
   ]
  },
  {
   "cell_type": "code",
   "execution_count": 8,
   "id": "d305370a-f7f3-49fb-b76c-223fedc26b60",
   "metadata": {},
   "outputs": [
    {
     "data": {
      "text/plain": [
       "__main__.item"
      ]
     },
     "execution_count": 8,
     "metadata": {},
     "output_type": "execute_result"
    }
   ],
   "source": [
    " item"
   ]
  },
  {
   "cell_type": "code",
   "execution_count": null,
   "id": "dbe6180f-cd2a-44aa-9f5f-d2c10c6bcd24",
   "metadata": {},
   "outputs": [],
   "source": [
    "class Itemm:\n",
    "    def calcula"
   ]
  },
  {
   "cell_type": "code",
   "execution_count": null,
   "id": "a8204ff7-96d8-4bc0-856d-2d148ca46acc",
   "metadata": {},
   "outputs": [],
   "source": []
  },
  {
   "cell_type": "code",
   "execution_count": null,
   "id": "5dc470d0-07ae-4876-b4eb-d6e8f755687d",
   "metadata": {},
   "outputs": [],
   "source": []
  },
  {
   "cell_type": "code",
   "execution_count": null,
   "id": "330927cf-cea9-4a10-8360-0978310b31ed",
   "metadata": {},
   "outputs": [],
   "source": []
  },
  {
   "cell_type": "code",
   "execution_count": null,
   "id": "acfbb7c4-479c-4015-88c7-267ac715a00c",
   "metadata": {},
   "outputs": [],
   "source": []
  },
  {
   "cell_type": "code",
   "execution_count": null,
   "id": "0adec162-0d8e-4c2f-8d99-163289225f22",
   "metadata": {},
   "outputs": [],
   "source": []
  },
  {
   "cell_type": "code",
   "execution_count": null,
   "id": "cf4ba460-5413-4ed5-9922-be6b7c3cc459",
   "metadata": {},
   "outputs": [],
   "source": []
  },
  {
   "cell_type": "code",
   "execution_count": null,
   "id": "f1b787d8-dfa5-476c-aa2a-e0e2d9055c99",
   "metadata": {},
   "outputs": [],
   "source": []
  },
  {
   "cell_type": "code",
   "execution_count": null,
   "id": "03919bea-28df-4f7b-9155-5cf02a8997da",
   "metadata": {},
   "outputs": [],
   "source": []
  },
  {
   "cell_type": "code",
   "execution_count": null,
   "id": "e021e1c0-ce3c-4ba6-baf6-ab60c69813c3",
   "metadata": {},
   "outputs": [],
   "source": []
  }
 ],
 "metadata": {
  "kernelspec": {
   "display_name": "Python 3 (ipykernel)",
   "language": "python",
   "name": "python3"
  },
  "language_info": {
   "codemirror_mode": {
    "name": "ipython",
    "version": 3
   },
   "file_extension": ".py",
   "mimetype": "text/x-python",
   "name": "python",
   "nbconvert_exporter": "python",
   "pygments_lexer": "ipython3",
   "version": "3.10.12"
  }
 },
 "nbformat": 4,
 "nbformat_minor": 5
}
