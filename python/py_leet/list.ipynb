{
 "cells": [
  {
   "cell_type": "code",
   "execution_count": 1,
   "id": "bb92d3d1-df25-4da9-942f-699919287f6f",
   "metadata": {},
   "outputs": [],
   "source": [
    "nums1 = [1, 12, -5, -6, 50, 3]"
   ]
  },
  {
   "cell_type": "code",
   "execution_count": 2,
   "id": "ac2f38e9-a96a-4dee-9b60-a8cf4a3bf84e",
   "metadata": {},
   "outputs": [
    {
     "data": {
      "text/plain": [
       "[1, 12, -5, -6, 50, 3]"
      ]
     },
     "execution_count": 2,
     "metadata": {},
     "output_type": "execute_result"
    }
   ],
   "source": [
    "nums1"
   ]
  },
  {
   "cell_type": "code",
   "execution_count": 5,
   "id": "4776dcab-e99a-4565-b6e0-9b28b88efc86",
   "metadata": {},
   "outputs": [
    {
     "ename": "AttributeError",
     "evalue": "'list' object has no attribute 'size'",
     "output_type": "error",
     "traceback": [
      "\u001b[0;31m---------------------------------------------------------------------------\u001b[0m",
      "\u001b[0;31mAttributeError\u001b[0m                            Traceback (most recent call last)",
      "Cell \u001b[0;32mIn[5], line 1\u001b[0m\n\u001b[0;32m----> 1\u001b[0m \u001b[43mnums1\u001b[49m\u001b[38;5;241;43m.\u001b[39;49m\u001b[43msize\u001b[49m()\n",
      "\u001b[0;31mAttributeError\u001b[0m: 'list' object has no attribute 'size'"
     ]
    }
   ],
   "source": [
    "nums1.size()"
   ]
  },
  {
   "cell_type": "code",
   "execution_count": 6,
   "id": "bf865e20-f8fa-4ddc-af68-dc0401e3e115",
   "metadata": {},
   "outputs": [
    {
     "data": {
      "text/plain": [
       "list"
      ]
     },
     "execution_count": 6,
     "metadata": {},
     "output_type": "execute_result"
    }
   ],
   "source": [
    "type(nums1)"
   ]
  },
  {
   "cell_type": "code",
   "execution_count": 7,
   "id": "7485a401-e8b0-4f39-9c85-51852698791f",
   "metadata": {},
   "outputs": [
    {
     "data": {
      "text/plain": [
       "6"
      ]
     },
     "execution_count": 7,
     "metadata": {},
     "output_type": "execute_result"
    }
   ],
   "source": [
    "len(nums1)"
   ]
  },
  {
   "cell_type": "code",
   "execution_count": 8,
   "id": "70388117-c29c-48e3-84aa-08a097b2b931",
   "metadata": {},
   "outputs": [
    {
     "data": {
      "text/plain": [
       "3"
      ]
     },
     "execution_count": 8,
     "metadata": {},
     "output_type": "execute_result"
    }
   ],
   "source": [
    "nums1[5]"
   ]
  },
  {
   "cell_type": "code",
   "execution_count": 9,
   "id": "556bd319-4339-4e32-a60e-84e7cf47d4db",
   "metadata": {},
   "outputs": [
    {
     "ename": "IndexError",
     "evalue": "list index out of range",
     "output_type": "error",
     "traceback": [
      "\u001b[0;31m---------------------------------------------------------------------------\u001b[0m",
      "\u001b[0;31mIndexError\u001b[0m                                Traceback (most recent call last)",
      "Cell \u001b[0;32mIn[9], line 1\u001b[0m\n\u001b[0;32m----> 1\u001b[0m \u001b[43mnums1\u001b[49m\u001b[43m[\u001b[49m\u001b[38;5;241;43m8\u001b[39;49m\u001b[43m]\u001b[49m\n",
      "\u001b[0;31mIndexError\u001b[0m: list index out of range"
     ]
    }
   ],
   "source": [
    "nums1[8]"
   ]
  },
  {
   "cell_type": "code",
   "execution_count": 11,
   "id": "2e505961-4fd4-4865-bac7-4def08799a3f",
   "metadata": {},
   "outputs": [
    {
     "data": {
      "text/plain": [
       "[1, 12, -5, -6, 50]"
      ]
     },
     "execution_count": 11,
     "metadata": {},
     "output_type": "execute_result"
    }
   ],
   "source": [
    "nums1[:5]"
   ]
  },
  {
   "cell_type": "code",
   "execution_count": 12,
   "id": "8f45c420-03e1-47d0-9e40-d66bd0219eba",
   "metadata": {},
   "outputs": [
    {
     "data": {
      "text/plain": [
       "[3]"
      ]
     },
     "execution_count": 12,
     "metadata": {},
     "output_type": "execute_result"
    }
   ],
   "source": [
    "nums1[5:]"
   ]
  },
  {
   "cell_type": "code",
   "execution_count": 14,
   "id": "d89605e9-5ba5-4da4-a3e5-c2cc328ddcb7",
   "metadata": {},
   "outputs": [
    {
     "data": {
      "text/plain": [
       "[-6, 50, 3]"
      ]
     },
     "execution_count": 14,
     "metadata": {},
     "output_type": "execute_result"
    }
   ],
   "source": [
    "nums1[3:]"
   ]
  },
  {
   "cell_type": "code",
   "execution_count": 15,
   "id": "72155bfe-9f48-46ab-99e9-66de5d9682ac",
   "metadata": {},
   "outputs": [
    {
     "data": {
      "text/plain": [
       "55"
      ]
     },
     "execution_count": 15,
     "metadata": {},
     "output_type": "execute_result"
    }
   ],
   "source": [
    "sum(nums1)"
   ]
  },
  {
   "cell_type": "code",
   "execution_count": 16,
   "id": "389841d2-e8e3-4652-9836-5f2cf067c1bf",
   "metadata": {},
   "outputs": [
    {
     "data": {
      "text/plain": [
       "50"
      ]
     },
     "execution_count": 16,
     "metadata": {},
     "output_type": "execute_result"
    }
   ],
   "source": [
    "max(nums1)"
   ]
  },
  {
   "cell_type": "code",
   "execution_count": 17,
   "id": "45483eee-2be7-47f4-a405-01e84e472ee1",
   "metadata": {},
   "outputs": [
    {
     "data": {
      "text/plain": [
       "[1, 12, -5, -6, 50, 3]"
      ]
     },
     "execution_count": 17,
     "metadata": {},
     "output_type": "execute_result"
    }
   ],
   "source": [
    "nums1"
   ]
  },
  {
   "cell_type": "code",
   "execution_count": 18,
   "id": "9555b382-76d5-4f7a-9f1d-51d8de4ad7cc",
   "metadata": {},
   "outputs": [
    {
     "data": {
      "text/plain": [
       "-6"
      ]
     },
     "execution_count": 18,
     "metadata": {},
     "output_type": "execute_result"
    }
   ],
   "source": [
    "min(nums1)"
   ]
  },
  {
   "cell_type": "code",
   "execution_count": 19,
   "id": "15f2b664-20f0-4851-9b6a-c3c379665764",
   "metadata": {},
   "outputs": [
    {
     "ename": "NameError",
     "evalue": "name 'avg' is not defined",
     "output_type": "error",
     "traceback": [
      "\u001b[0;31m---------------------------------------------------------------------------\u001b[0m",
      "\u001b[0;31mNameError\u001b[0m                                 Traceback (most recent call last)",
      "Cell \u001b[0;32mIn[19], line 1\u001b[0m\n\u001b[0;32m----> 1\u001b[0m \u001b[43mavg\u001b[49m(nums1)\n",
      "\u001b[0;31mNameError\u001b[0m: name 'avg' is not defined"
     ]
    }
   ],
   "source": [
    "avg(nums1)"
   ]
  },
  {
   "cell_type": "code",
   "execution_count": 20,
   "id": "0df19da9-17ea-4835-83e6-787124058833",
   "metadata": {},
   "outputs": [
    {
     "name": "stdout",
     "output_type": "stream",
     "text": [
      "name:alice\n",
      "age:30\n"
     ]
    }
   ],
   "source": [
    "def print_details(**kwargs):\n",
    "    for key,value in kwargs.items():\n",
    "        print(f\"{key}:{value}\")\n",
    "\n",
    "\n",
    "print_details(name=\"alice\",age=30)\n",
    "                          "
   ]
  },
  {
   "cell_type": "code",
   "execution_count": 23,
   "id": "d3f6942a-0129-48d8-a7f0-48de5ad42355",
   "metadata": {},
   "outputs": [
    {
     "data": {
      "text/plain": [
       "function"
      ]
     },
     "execution_count": 23,
     "metadata": {},
     "output_type": "execute_result"
    }
   ],
   "source": [
    "type(print_details)"
   ]
  },
  {
   "cell_type": "code",
   "execution_count": null,
   "id": "3c9589f2-2557-42ce-ab34-40db45aeecd3",
   "metadata": {},
   "outputs": [],
   "source": []
  }
 ],
 "metadata": {
  "kernelspec": {
   "display_name": "Python 3 (ipykernel)",
   "language": "python",
   "name": "python3"
  },
  "language_info": {
   "codemirror_mode": {
    "name": "ipython",
    "version": 3
   },
   "file_extension": ".py",
   "mimetype": "text/x-python",
   "name": "python",
   "nbconvert_exporter": "python",
   "pygments_lexer": "ipython3",
   "version": "3.10.12"
  }
 },
 "nbformat": 4,
 "nbformat_minor": 5
}
