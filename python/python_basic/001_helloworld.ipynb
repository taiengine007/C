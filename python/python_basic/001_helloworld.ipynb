{
 "cells": [
  {
   "cell_type": "code",
   "execution_count": 2,
   "id": "916b14bf-bb14-4786-a3e7-4d02fba39225",
   "metadata": {},
   "outputs": [
    {
     "name": "stdout",
     "output_type": "stream",
     "text": [
      "hello world \n",
      "\n"
     ]
    }
   ],
   "source": [
    "print(\"hello world \\n\")"
   ]
  },
  {
   "cell_type": "raw",
   "id": "85090a1c-cd37-4ede-9d95-e2c6bc34779b",
   "metadata": {},
   "source": [
    "bvdscf\n"
   ]
  },
  {
   "cell_type": "code",
   "execution_count": 3,
   "id": "f8c8cd5f-6d8c-4fb2-8919-0aa031d2770e",
   "metadata": {},
   "outputs": [
    {
     "name": "stdout",
     "output_type": "stream",
     "text": [
      "7\n"
     ]
    }
   ],
   "source": [
    "print(4+3)"
   ]
  },
  {
   "cell_type": "code",
   "execution_count": 4,
   "id": "e4f318b3-740c-47c8-b718-1145177b1ef0",
   "metadata": {},
   "outputs": [],
   "source": [
    "x=10"
   ]
  },
  {
   "cell_type": "code",
   "execution_count": 5,
   "id": "874cce58-7212-4cf3-9482-d4868feb16cf",
   "metadata": {},
   "outputs": [
    {
     "data": {
      "text/plain": [
       "int"
      ]
     },
     "execution_count": 5,
     "metadata": {},
     "output_type": "execute_result"
    }
   ],
   "source": [
    "type(x)"
   ]
  },
  {
   "cell_type": "code",
   "execution_count": 6,
   "id": "492a6aef-7fc5-4095-865a-b1a5b9d4dd86",
   "metadata": {},
   "outputs": [],
   "source": [
    "y=3.14"
   ]
  },
  {
   "cell_type": "code",
   "execution_count": 7,
   "id": "254c9837-3ace-4a43-b1eb-6fce6ec9ea9f",
   "metadata": {},
   "outputs": [
    {
     "data": {
      "text/plain": [
       "3.14"
      ]
     },
     "execution_count": 7,
     "metadata": {},
     "output_type": "execute_result"
    }
   ],
   "source": [
    "y\n"
   ]
  },
  {
   "cell_type": "code",
   "execution_count": 8,
   "id": "62911dfb-9958-4b91-aea9-c0912971ded0",
   "metadata": {},
   "outputs": [
    {
     "data": {
      "text/plain": [
       "10"
      ]
     },
     "execution_count": 8,
     "metadata": {},
     "output_type": "execute_result"
    }
   ],
   "source": [
    "x"
   ]
  },
  {
   "cell_type": "code",
   "execution_count": 9,
   "id": "9f48e5bf-8340-4ed6-a4fc-d56236999a64",
   "metadata": {},
   "outputs": [
    {
     "data": {
      "text/plain": [
       "float"
      ]
     },
     "execution_count": 9,
     "metadata": {},
     "output_type": "execute_result"
    }
   ],
   "source": [
    "type(y)"
   ]
  },
  {
   "cell_type": "code",
   "execution_count": 10,
   "id": "506d1b0d-3771-4e56-b81b-9972bacf3120",
   "metadata": {},
   "outputs": [],
   "source": [
    "name=\"bharath\""
   ]
  },
  {
   "cell_type": "markdown",
   "id": "4ef2ab87-1cea-4e02-90c3-8bb3a03978fb",
   "metadata": {},
   "source": []
  },
  {
   "cell_type": "code",
   "execution_count": 11,
   "id": "4bf6544c-c90b-4bfa-8c75-e695eafb9041",
   "metadata": {},
   "outputs": [
    {
     "data": {
      "text/plain": [
       "'bharath'"
      ]
     },
     "execution_count": 11,
     "metadata": {},
     "output_type": "execute_result"
    }
   ],
   "source": [
    "name"
   ]
  },
  {
   "cell_type": "code",
   "execution_count": 12,
   "id": "5c26a8d8-be8c-4230-b72b-7746527b498e",
   "metadata": {},
   "outputs": [
    {
     "data": {
      "text/plain": [
       "str"
      ]
     },
     "execution_count": 12,
     "metadata": {},
     "output_type": "execute_result"
    }
   ],
   "source": [
    "type(name)"
   ]
  },
  {
   "cell_type": "code",
   "execution_count": 13,
   "id": "58bae8f3-9c99-40f8-a3b2-ae58d28c3eb4",
   "metadata": {},
   "outputs": [
    {
     "ename": "NameError",
     "evalue": "name 'size' is not defined",
     "output_type": "error",
     "traceback": [
      "\u001b[0;31m---------------------------------------------------------------------------\u001b[0m",
      "\u001b[0;31mNameError\u001b[0m                                 Traceback (most recent call last)",
      "Cell \u001b[0;32mIn[13], line 1\u001b[0m\n\u001b[0;32m----> 1\u001b[0m \u001b[43msize\u001b[49m(name)\n",
      "\u001b[0;31mNameError\u001b[0m: name 'size' is not defined"
     ]
    }
   ],
   "source": [
    "size(name)"
   ]
  },
  {
   "cell_type": "code",
   "execution_count": 14,
   "id": "a8e1970e-2419-4fb0-819d-c4f649e5ef23",
   "metadata": {},
   "outputs": [
    {
     "ename": "AttributeError",
     "evalue": "'str' object has no attribute 'size'",
     "output_type": "error",
     "traceback": [
      "\u001b[0;31m---------------------------------------------------------------------------\u001b[0m",
      "\u001b[0;31mAttributeError\u001b[0m                            Traceback (most recent call last)",
      "Cell \u001b[0;32mIn[14], line 1\u001b[0m\n\u001b[0;32m----> 1\u001b[0m \u001b[43mname\u001b[49m\u001b[38;5;241;43m.\u001b[39;49m\u001b[43msize\u001b[49m()\n",
      "\u001b[0;31mAttributeError\u001b[0m: 'str' object has no attribute 'size'"
     ]
    }
   ],
   "source": [
    "name.size()"
   ]
  },
  {
   "cell_type": "code",
   "execution_count": 15,
   "id": "791294f4-843d-4898-b059-ab93dc08c007",
   "metadata": {},
   "outputs": [],
   "source": [
    "is_it = True"
   ]
  },
  {
   "cell_type": "code",
   "execution_count": 16,
   "id": "d63f1816-bcc8-4f8e-b582-5751b58b7f6a",
   "metadata": {},
   "outputs": [
    {
     "data": {
      "text/plain": [
       "True"
      ]
     },
     "execution_count": 16,
     "metadata": {},
     "output_type": "execute_result"
    }
   ],
   "source": [
    "is_it\n"
   ]
  },
  {
   "cell_type": "code",
   "execution_count": 17,
   "id": "f29d40d0-dd9d-4e26-9729-1e9dd7323ffc",
   "metadata": {},
   "outputs": [
    {
     "data": {
      "text/plain": [
       "bool"
      ]
     },
     "execution_count": 17,
     "metadata": {},
     "output_type": "execute_result"
    }
   ],
   "source": [
    "type(is_it)"
   ]
  },
  {
   "cell_type": "code",
   "execution_count": 18,
   "id": "77c5f9d1-1c09-443d-aa70-d10a460248f7",
   "metadata": {},
   "outputs": [],
   "source": [
    "import os"
   ]
  },
  {
   "cell_type": "code",
   "execution_count": 20,
   "id": "5679d865-49f1-43c9-bc36-59d3e9af58b2",
   "metadata": {},
   "outputs": [
    {
     "data": {
      "text/plain": [
       "['\\x1b[H\\x1b[2J']"
      ]
     },
     "execution_count": 20,
     "metadata": {},
     "output_type": "execute_result"
    }
   ],
   "source": [
    "system(\"clear\")"
   ]
  },
  {
   "cell_type": "code",
   "execution_count": null,
   "id": "29f8541b-bf2c-4105-bca9-7ac11a4329fa",
   "metadata": {},
   "outputs": [],
   "source": []
  },
  {
   "cell_type": "code",
   "execution_count": 21,
   "id": "49c4ac2d-5324-4001-9660-7df8759f2f0e",
   "metadata": {},
   "outputs": [
    {
     "name": "stdout",
     "output_type": "stream",
     "text": [
      "10 3.14 bharath True\n"
     ]
    }
   ],
   "source": [
    "print(x,y,name,is_it)"
   ]
  },
  {
   "cell_type": "code",
   "execution_count": 23,
   "id": "df498d18-ef3f-4e58-83dd-799bddc4f5dc",
   "metadata": {},
   "outputs": [
    {
     "name": "stdout",
     "output_type": "stream",
     "text": [
      "13.14\n"
     ]
    }
   ],
   "source": [
    "print(x+y)"
   ]
  },
  {
   "cell_type": "code",
   "execution_count": 24,
   "id": "62280fcc-d2cd-4109-ad33-8aef7838e392",
   "metadata": {},
   "outputs": [
    {
     "name": "stdout",
     "output_type": "stream",
     "text": [
      "15\n",
      "5\n",
      "50\n",
      "2.0\n",
      "100\n"
     ]
    }
   ],
   "source": [
    "a = 10\n",
    "b = 5\n",
    "\n",
    "# Addition\n",
    "print(a + b)\n",
    "\n",
    "# Subtraction\n",
    "print(a - b)\n",
    "\n",
    "# Multiplication\n",
    "print(a * b)\n",
    "\n",
    "# Division\n",
    "print(a / b)\n",
    "\n",
    "# Exponentiation\n",
    "print(a ** 2)\n"
   ]
  },
  {
   "cell_type": "code",
   "execution_count": 25,
   "id": "b7da3606-edec-4bdd-baf7-c53fcfa4e54d",
   "metadata": {},
   "outputs": [
    {
     "data": {
      "text/plain": [
       "int"
      ]
     },
     "execution_count": 25,
     "metadata": {},
     "output_type": "execute_result"
    }
   ],
   "source": [
    "type(a)"
   ]
  },
  {
   "cell_type": "code",
   "execution_count": 26,
   "id": "a3f1c5ff-5e76-4ab1-85cc-79ad5556700f",
   "metadata": {},
   "outputs": [
    {
     "data": {
      "text/plain": [
       "float"
      ]
     },
     "execution_count": 26,
     "metadata": {},
     "output_type": "execute_result"
    }
   ],
   "source": [
    "type(a/b)"
   ]
  },
  {
   "cell_type": "code",
   "execution_count": 27,
   "id": "c4b0c2be-36a9-4b67-84a1-958edd3838fa",
   "metadata": {},
   "outputs": [
    {
     "data": {
      "text/plain": [
       "int"
      ]
     },
     "execution_count": 27,
     "metadata": {},
     "output_type": "execute_result"
    }
   ],
   "source": [
    "type(a**b)"
   ]
  },
  {
   "cell_type": "code",
   "execution_count": 29,
   "id": "2f42def2-5c3c-4fb9-a927-95d929e540da",
   "metadata": {},
   "outputs": [
    {
     "name": "stdin",
     "output_type": "stream",
     "text": [
      "what sthe message ???.. name is bharath\n"
     ]
    }
   ],
   "source": [
    "message= input(\"what sthe message ???..\")"
   ]
  },
  {
   "cell_type": "code",
   "execution_count": 30,
   "id": "21c543e1-1050-4522-a223-7c7e7d456031",
   "metadata": {},
   "outputs": [
    {
     "data": {
      "text/plain": [
       "'name is bharath'"
      ]
     },
     "execution_count": 30,
     "metadata": {},
     "output_type": "execute_result"
    }
   ],
   "source": [
    "message"
   ]
  },
  {
   "cell_type": "code",
   "execution_count": 31,
   "id": "2e765902-c5ee-4a0d-9c66-f6cba4e9fd87",
   "metadata": {},
   "outputs": [
    {
     "name": "stdout",
     "output_type": "stream",
     "text": [
      "name is bharath\n"
     ]
    }
   ],
   "source": [
    "print(message)"
   ]
  },
  {
   "cell_type": "code",
   "execution_count": 32,
   "id": "23542081-a95e-49d7-bbf5-f57bd6424c62",
   "metadata": {},
   "outputs": [
    {
     "name": "stdout",
     "output_type": "stream",
     "text": [
      "\u001b[H\u001b[2J"
     ]
    }
   ],
   "source": [
    "clear"
   ]
  },
  {
   "cell_type": "code",
   "execution_count": 39,
   "id": "9e38d10d-d6ed-4862-9300-87c1314d0f73",
   "metadata": {},
   "outputs": [
    {
     "name": "stdin",
     "output_type": "stream",
     "text": [
      "enter nbumber -1\n"
     ]
    }
   ],
   "source": [
    "number = int(input(\"enter nbumber\"))"
   ]
  },
  {
   "cell_type": "code",
   "execution_count": 34,
   "id": "836af539-9304-4902-996e-268a44cf20b0",
   "metadata": {},
   "outputs": [
    {
     "data": {
      "text/plain": [
       "17"
      ]
     },
     "execution_count": 34,
     "metadata": {},
     "output_type": "execute_result"
    }
   ],
   "source": [
    "number\n"
   ]
  },
  {
   "cell_type": "code",
   "execution_count": 35,
   "id": "c220eaf7-24af-4243-bf33-3f366753d1ae",
   "metadata": {},
   "outputs": [
    {
     "name": "stdout",
     "output_type": "stream",
     "text": [
      "17\n"
     ]
    }
   ],
   "source": [
    "print(number)"
   ]
  },
  {
   "cell_type": "code",
   "execution_count": 40,
   "id": "934df0ae-6f63-44e4-8048-49d22eeeebaa",
   "metadata": {},
   "outputs": [
    {
     "data": {
      "text/plain": [
       "9"
      ]
     },
     "execution_count": 40,
     "metadata": {},
     "output_type": "execute_result"
    }
   ],
   "source": [
    "number+10"
   ]
  },
  {
   "cell_type": "code",
   "execution_count": 41,
   "id": "7a8a0da1-615e-4b85-b2d0-2c4cfd3cdddc",
   "metadata": {},
   "outputs": [
    {
     "name": "stdout",
     "output_type": "stream",
     "text": [
      "nbumber is negative\n"
     ]
    }
   ],
   "source": [
    "if(number >0):\n",
    "    print(\"number is positive\")\n",
    "elif(number <0):\n",
    "    print(\"nbumber is negative\")\n",
    "else:\n",
    "    print(\"zero\")"
   ]
  },
  {
   "cell_type": "raw",
   "id": "004a077d-94fe-4382-927a-fb8ecfb8979c",
   "metadata": {},
   "source": [
    "for i in range(0,5):\n",
    "    print(i)|"
   ]
  },
  {
   "cell_type": "code",
   "execution_count": 43,
   "id": "ad1311fd-db5c-41cf-9c3c-716adbc3a80f",
   "metadata": {},
   "outputs": [
    {
     "data": {
      "text/plain": [
       "range(0, 5)"
      ]
     },
     "execution_count": 43,
     "metadata": {},
     "output_type": "execute_result"
    }
   ],
   "source": [
    "range(5)"
   ]
  },
  {
   "cell_type": "code",
   "execution_count": 44,
   "id": "f0d4b423-dc8e-4ff2-a81b-b30f8c7d1c80",
   "metadata": {},
   "outputs": [
    {
     "name": "stdout",
     "output_type": "stream",
     "text": [
      "0\n",
      "1\n",
      "2\n",
      "3\n",
      "4\n"
     ]
    }
   ],
   "source": [
    "for i in range(5):\n",
    "    print(i)"
   ]
  },
  {
   "cell_type": "code",
   "execution_count": 46,
   "id": "e6bcb72f-5f1d-4e89-90dc-d39dfd3daa1a",
   "metadata": {},
   "outputs": [
    {
     "name": "stdout",
     "output_type": "stream",
     "text": [
      "number : 0\n",
      "number : 1\n",
      "number : 2\n",
      "number : 3\n",
      "number : 4\n",
      "number : 5\n",
      "number : 6\n",
      "number : 7\n",
      "number : 8\n",
      "number : 9\n"
     ]
    }
   ],
   "source": [
    "for j in range(10):\n",
    "    print(\"number :\"  ,j)"
   ]
  },
  {
   "cell_type": "code",
   "execution_count": 2,
   "id": "0c844d34-a814-4e07-bba8-340e07a663c1",
   "metadata": {},
   "outputs": [
    {
     "name": "stdout",
     "output_type": "stream",
     "text": [
      "Count: 0\n",
      "Count: 1\n",
      "Count: 2\n",
      "Count: 3\n",
      "Count: 4\n"
     ]
    }
   ],
   "source": [
    "count = 0\n",
    "while count < 5:\n",
    "    print(\"Count:\", count)\n",
    "    count += 1\n"
   ]
  },
  {
   "cell_type": "code",
   "execution_count": 3,
   "id": "75e985f7-4289-4145-9fa7-6b71f891a16d",
   "metadata": {},
   "outputs": [
    {
     "name": "stdout",
     "output_type": "stream",
     "text": [
      "count is :  1\n",
      "count is :  2\n",
      "count is :  3\n",
      "count is :  4\n",
      "count is :  5\n",
      "count is :  6\n",
      "count is :  7\n",
      "count is :  8\n",
      "count is :  9\n"
     ]
    }
   ],
   "source": [
    "count =1\n",
    "while count<10:\n",
    "    print(\"count is : \", count)\n",
    "    count+=1"
   ]
  },
  {
   "cell_type": "code",
   "execution_count": 5,
   "id": "183fc718-314b-40b5-aaac-ca69012b6add",
   "metadata": {},
   "outputs": [],
   "source": [
    "def func(int):\n",
    "    print(func)"
   ]
  },
  {
   "cell_type": "code",
   "execution_count": 6,
   "id": "cd0fbecd-462b-4c42-bb18-be4e12095ef9",
   "metadata": {},
   "outputs": [
    {
     "data": {
      "text/plain": [
       "function"
      ]
     },
     "execution_count": 6,
     "metadata": {},
     "output_type": "execute_result"
    }
   ],
   "source": [
    "type(func)"
   ]
  },
  {
   "cell_type": "code",
   "execution_count": 7,
   "id": "43739e52-221f-4589-a308-c1382d231181",
   "metadata": {},
   "outputs": [
    {
     "name": "stdout",
     "output_type": "stream",
     "text": [
      "Hello, Alice!\n"
     ]
    }
   ],
   "source": [
    "def greet(name):\n",
    "    return f\"Hello, {name}!\"\n",
    "\n",
    "print(greet(\"Alice\"))\n"
   ]
  },
  {
   "cell_type": "code",
   "execution_count": 10,
   "id": "7b8df328-d926-46d6-8a4d-82604744e415",
   "metadata": {},
   "outputs": [],
   "source": [
    "def greet(name):\n",
    "    return f\"hello,{name}\""
   ]
  },
  {
   "cell_type": "code",
   "execution_count": 11,
   "id": "4bb0eb26-760d-4deb-ae42-0b89bfcdbc1b",
   "metadata": {},
   "outputs": [
    {
     "name": "stdout",
     "output_type": "stream",
     "text": [
      "hello,alice\n"
     ]
    }
   ],
   "source": [
    "print(greet(\"alice\"))"
   ]
  },
  {
   "cell_type": "code",
   "execution_count": null,
   "id": "7d57665b-fb4f-449c-8e87-fcdc705ec796",
   "metadata": {},
   "outputs": [],
   "source": []
  },
  {
   "cell_type": "code",
   "execution_count": null,
   "id": "315367b6-6aa6-4c2a-83cc-2d4d7a42b86b",
   "metadata": {},
   "outputs": [],
   "source": []
  }
 ],
 "metadata": {
  "kernelspec": {
   "display_name": "Python 3 (ipykernel)",
   "language": "python",
   "name": "python3"
  },
  "language_info": {
   "codemirror_mode": {
    "name": "ipython",
    "version": 3
   },
   "file_extension": ".py",
   "mimetype": "text/x-python",
   "name": "python",
   "nbconvert_exporter": "python",
   "pygments_lexer": "ipython3",
   "version": "3.10.12"
  }
 },
 "nbformat": 4,
 "nbformat_minor": 5
}
